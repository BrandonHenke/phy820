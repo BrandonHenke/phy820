{
 "cells": [
  {
   "cell_type": "markdown",
   "metadata": {},
   "source": [
    "# P03: Nonlinear Oscillators\n",
    "\n",
    "* Last revision: 25-Nov-2020 by Heiko Hergert (hergert@frib.msu.edu)\n",
    "* Oscillator GUI based on code by Dick Furnstahl (furnstahl.1@osu.edu)."
   ]
  },
  {
   "cell_type": "markdown",
   "metadata": {},
   "source": [
    "# 1. Introduction\n",
    "\n",
    "Dynamical systems that are governed by nonlinear differential equations frequently exhibit **chaotic** behavior: Infinitesimal differences in the initial conditions are amplified such that they can lead to a radically different time evolution in phase space. Consequently, predicting the long-term behavior of a nonlinear dynamical system is difficult at best, and often impossible.\n",
    "\n",
    "In this project, we will study the dynamics of a nonlinear oscillator in phase space, introducing some useful visualization tools for chaotic systems along the way.\n",
    "\n",
    "**Task**: \n",
    "\n",
    "1. Start by going over the notebook and testing out the GUI and other routines for the driven and damped harmonic oscillator, which is currently implemented.\n",
    "\n",
    "</div>"
   ]
  },
  {
   "cell_type": "markdown",
   "metadata": {},
   "source": [
    "# 2. The Duffing Oscillator\n",
    "\n",
    "The model we will study is the so-called **Duffing oscillator**, which is defined by the Hamiltonian\n",
    "$$\n",
    "  H(q,p) = \\frac{p^2}{2m} - \\frac{1}{2}m\\omega^2_0q^2 + \\frac{1}{4}\\alpha q^4\\,,\n",
    "$$\n",
    "where $a$ is a real constant. Note the sign of the quadratic term! \n",
    "\n",
    "\n",
    "<div class=\"alert alert-block alert-info\">\n",
    "\n",
    "**Task**: \n",
    "\n",
    "2.1. Plot the potential. \n",
    "2.2. Derive Hamilton's equations. \n",
    "2.3. Add the usual viscous damping and a periodic driving force to the dynamical equations. Why do we add these terms to the equation for $\\dot{p}$ (cf. reference implementation of the standard harmonic oscillator)? \n",
    "</div>"
   ]
  },
  {
   "cell_type": "markdown",
   "metadata": {},
   "source": [
    "### 2.1 Plotting the Potential"
   ]
  },
  {
   "cell_type": "code",
   "execution_count": 37,
   "metadata": {},
   "outputs": [
    {
     "data": {
      "image/png": "[encoded data removed]",
      "text/plain": [
       "<Figure size 432x288 with 1 Axes>"
      ]
     },
     "metadata": {
      "needs_background": "light"
     },
     "output_type": "display_data"
    }
   ],
   "source": [
    "import numpy as np\n",
    "import matplotlib.pyplot as plt\n",
    "\n",
    "q = np.arange(-2,2,0.01)\n",
    "plt.plot(q,-1/2 * q**2 + 1/4 * q**4)\n",
    "plt.show()"
   ]
  },
  {
   "cell_type": "markdown",
   "metadata": {},
   "source": [
    "### 2.2 Deriving Hamilton's Equations\n",
    "\n",
    "\\begin{align*}\n",
    "    \\dot{q} = \\frac{\\partial H}{\\partial p} &= \\frac{p}{m},\\\\\n",
    "    \\dot{p} = -\\frac{\\partial H}{\\partial q} &= m\\omega_0 q - \\alpha q^3.\n",
    "\\end{align*}"
   ]
  },
  {
   "cell_type": "markdown",
   "metadata": {},
   "source": [
    "### 2.3 Adding Damping and Driving Forces\n",
    "\n",
    "\\begin{align*}\n",
    "    \\dot{p} \\rightarrow \\dot{p} &= m\\omega_0 q - \\alpha q^3 - \\beta \\dot{q}^2 + A_0 \\sin(\\omega_d t).\n",
    "\\end{align*}\n",
    "\n",
    "Since the derivative of momentum is equal to the net force on an object, all one needs to do is add more forces into the sum to modify it in the way we want.\n",
    "Nothing else needs to change."
   ]
  },
  {
   "cell_type": "markdown",
   "metadata": {},
   "source": [
    "# 3. Implementation\n",
    "\n",
    "### A Word on Code Organization\n",
    "The present notebook makes use of a widget-based GUI to explore the parameters of our dynamical model. To reduce clutter, I have moved the graphical user interface elements to a separate module *p03_oscillator_gui.py*. The appropriate routines are imported below. \n",
    "\n",
    "<div class=\"alert alert-block alert-info\">\n",
    "\n",
    "**Task**: \n",
    "\n",
    "Implement the Duffing oscillator in the oscillator class. *Note:* You'll have to account for the additional parameter $\\alpha$ in the plot function **and add a slider to the GUI in the external module** (you can simply follow the example of the already implemented parameters). \n",
    "</div>"
   ]
  },
  {
   "cell_type": "code",
   "execution_count": 17,
   "metadata": {},
   "outputs": [],
   "source": [
    "%matplotlib inline"
   ]
  },
  {
   "cell_type": "code",
   "execution_count": 26,
   "metadata": {},
   "outputs": [],
   "source": [
    "import numpy as np\n",
    "from scipy.integrate import ode, odeint\n",
    "\n",
    "from numpy import fft\n",
    "\n",
    "from abc import ABC, abstractmethod\n",
    "\n",
    "import matplotlib.pyplot as plt"
   ]
  },
  {
   "cell_type": "markdown",
   "metadata": {},
   "source": [
    "## 3.1 Class Definitions"
   ]
  },
  {
   "cell_type": "markdown",
   "metadata": {},
   "source": [
    "Here we provide the class definitions for our oscillator model, and define some helper functions. "
   ]
  },
  {
   "cell_type": "markdown",
   "metadata": {},
   "source": [
    "### Oscillator"
   ]
  },
  {
   "cell_type": "code",
   "execution_count": 19,
   "metadata": {},
   "outputs": [],
   "source": [
    "class Oscillator():\n",
    "    \"\"\"\n",
    "     A generic oscillator class that implements the parameters and Hamilton's equations.\n",
    "     \n",
    "    Parameters\n",
    "    ----------\n",
    "    omega0 : float\n",
    "        natural frequency of the oscillator (e.g., \\sqrt{k/m} if a spring) \n",
    "    beta : float\n",
    "        coefficient of damping term (with a factor of 2) \n",
    "    f_ext, omega_ext, phi_ext : float\n",
    "        parameters of the external driving force\n",
    "\n",
    "    Methods\n",
    "    -------\n",
    "    dy_dt(y, t)\n",
    "        Returns the right side of the differential equation in vector y, \n",
    "        given time t and the corresponding value of y.\n",
    "        \n",
    "    driving_force(t)\n",
    "        Returns the external driving force at time t.\n",
    "    \"\"\"\n",
    "    def __init__(self,\n",
    "                 m=1.,\n",
    "                 omega0=1.,\n",
    "                 beta=0.2,\n",
    "                 f_ext = 0.,\n",
    "                 omega_ext = 0.,\n",
    "                 phi_ext = 0.\n",
    "                ):\n",
    "        self.m = m\n",
    "        self.omega0 = omega0\n",
    "        self.beta = beta\n",
    "        self.f_ext = f_ext\n",
    "        self.omega_ext = omega_ext\n",
    "        self.phi_ext = phi_ext\n",
    "    \n",
    "    def driving_force(self, t):\n",
    "        \"\"\"\n",
    "        This function computes the size of the driving force at time t.\n",
    "        \n",
    "        Parameters\n",
    "        ----------\n",
    "        t : float\n",
    "            time \n",
    "                    \n",
    "        \"\"\"\n",
    "        return self.f_ext * np.cos(self.omega_ext * t + self.phi_ext)\n",
    "\n",
    "    def energy(self, y, t):\n",
    "        \"\"\"\n",
    "        This function computes the energy at t.\n",
    "        \n",
    "        Parameters\n",
    "        ----------\n",
    "        y : float\n",
    "            A 2-component vector with y[0] = q(t) and y[1] = p\n",
    "\n",
    "        t : float\n",
    "            time \n",
    "                    \n",
    "        \"\"\"\n",
    "        q, p = y\n",
    "        energy = p**2/(2*self.m) + 0.5 * self.m * self.omega0**2 * q**2 \n",
    "        return energy\n",
    "\n",
    "    \n",
    "    \n",
    "    def dy_dt(self, y, t):\n",
    "        \"\"\"\n",
    "        This function returns the right-hand side of the diffeq as a vector: \n",
    "        [dq/dt \n",
    "         dp/dt ]\n",
    "        \n",
    "        Parameters\n",
    "        ----------\n",
    "        y : float\n",
    "            A 2-component vector with y[0] = q(t) and y[1] = p\n",
    "        t : float\n",
    "            time \n",
    "                    \n",
    "        \"\"\"\n",
    "        dqdt = y[1] / self.m\n",
    "        dpdt =  - self.m * self.omega0**2*y[0] - 2*self.beta*y[1] + self.driving_force(t)\n",
    "        return [dqdt, dpdt ]\n"
   ]
  },
  {
   "cell_type": "markdown",
   "metadata": {},
   "source": [
    "## 3.2 Helpers\n",
    "\n",
    "The generic plot function from before."
   ]
  },
  {
   "cell_type": "code",
   "execution_count": 20,
   "metadata": {},
   "outputs": [],
   "source": [
    "def plot_y_vs_x(x, y, axis_labels=None, label=None, title=None, \n",
    "                color=None, linestyle=None, ax=None):\n",
    "    \"\"\"\n",
    "    Generic plotting function: return a figure axis with a plot of y vs. x,\n",
    "    with line color and style, title, axis labels, and line label\n",
    "    \"\"\"\n",
    "    if ax is None:        # if the axis object doesn't exist, make one\n",
    "        ax = plt.gca()\n",
    "\n",
    "    # prevent the ranges from getting too small\n",
    "    dx = abs(np.max(x) - np.min(x)) \n",
    "    dy = abs(np.max(y) - np.min(y)) \n",
    "    cx = 0.5*(np.max(x) + np.min(x))\n",
    "    cy = 0.5*(np.max(y) + np.min(y))\n",
    "    if dx < 1.0e-5: plt.xlim(cx - 1.0e-5, cx + 1.0e-5)\n",
    "    if dy < 1.0e-5: plt.ylim(cy - 1.0e-5, cy + 1.0e-5)\n",
    "\n",
    "    line, = ax.plot(x, y, label=label, color=color, linestyle=linestyle)\n",
    "    if label is not None:    # if a label if passed, show the legend\n",
    "        ax.legend()\n",
    "    if title is not None:    # set a title if one if passed\n",
    "        ax.set_title(title)\n",
    "    if axis_labels is not None:  # set x-axis and y-axis labels if passed  \n",
    "        ax.set_xlabel(axis_labels[0])\n",
    "        ax.set_ylabel(axis_labels[1])\n",
    "\n",
    "    return ax, line\n"
   ]
  },
  {
   "cell_type": "markdown",
   "metadata": {},
   "source": [
    "## 3.3 Main plot function\n",
    "\n",
    "The main plot function for use in the GUI's `interactive_output`."
   ]
  },
  {
   "cell_type": "code",
   "execution_count": 43,
   "metadata": {},
   "outputs": [],
   "source": [
    "def osci_plots(q_vs_time_plot=True, p_vs_time_plot=True, \n",
    "             phase_space_plot=True, driving_curve=True,\n",
    "             energy_plot=True, poincare_plot=True,\n",
    "             omega0=10.*np.pi, beta=np.pi/2., \n",
    "             f_ext=0, omega_ext=0, phi_ext=0,\n",
    "             q0=0.0, p0=0.0, \n",
    "             t_start=0, t_end=10, delta_t=0.01, plot_start=0,\n",
    "             font_size=18,\n",
    "             controls=None):\n",
    "    \"\"\"\n",
    "    Create plots for interactive_output according to the inputs.\n",
    "    \n",
    "    Based on generating a Harmonic_oscillator instance and associated graphs.\n",
    "    \n",
    "    Notes\n",
    "    -----\n",
    "        1. We generate a new oscillator instance every time *and* \n",
    "            solve the ODE every time, even if the only change is to parameters\n",
    "            like t_start and t_end.  Should we care or is this just so\n",
    "            cheap to recalculate that it doesn't matter?\n",
    "            How could we structure this differently?\n",
    "        2. Should we delete ho1 at some point, e.g., could there be a memory issue? \n",
    "            In principle, Python should call the destructor once an object's reference\n",
    "            count goes to zero, right?\n",
    "    \"\"\"\n",
    "    \n",
    "    # Set up mesh for time integration: We use either fractions of the driving force's period,\n",
    "    # the oscillator's natural period, or a default step size (useful for Poincare map).\n",
    "\n",
    "    # add delta_t it goes at least to t_end    \n",
    "    if abs(omega_ext) > 1.0e-5:\n",
    "        delta_t = 2 * np.pi / omega_ext / 100.\n",
    "    elif abs(omega0) > 1.0e-5:\n",
    "        delta_t = 2 * np.pi / omega0 / 100.\n",
    "    else:\n",
    "        # allow override ?\n",
    "        delta_t = 0.01\n",
    "\n",
    "    t_pts = np.arange(t_start, t_end+delta_t, delta_t)  \n",
    "        \n",
    "    # Instantiate an oscillator with the passed (or default) values of the \n",
    "    #  natural frequency omega0, damping beta and driving force.\n",
    "    osci = Oscillator(omega0=omega0, beta=beta, f_ext=f_ext, omega_ext=omega_ext, phi_ext=phi_ext)\n",
    "    y0 = [q0, p0]  # initial conditions for the oscillator ODE\n",
    "\n",
    "    # ODE solver parameters\n",
    "    abserr = 1.0e-8\n",
    "    relerr = 1.0e-6\n",
    "\n",
    "    # For now we solve with odeint; give more options in the future.\n",
    "    #  The .T is for transpose, so that the matrix from odeint can changed\n",
    "    #  to the correct form for reading off q and p.\n",
    "    q, p = odeint(osci.dy_dt, y0, t_pts,\n",
    "                              atol=abserr, rtol=relerr).T\n",
    "    \n",
    "    # also calculate the driving force for the same t_pts\n",
    "    driving = osci.driving_force(t_pts)\n",
    "        \n",
    "    # Update the common font size\n",
    "    plt.rcParams.update({'font.size': font_size})\n",
    " \n",
    "    # Labels for individual plot axes\n",
    "    q_vs_time_labels = (r'$t$', r'$q$')\n",
    "    p_vs_time_labels = (r'$t$', r'$p$')\n",
    "    phase_space_labels = (r'$q$', r'$p$')\n",
    "    energy_plot_labels = (r'$t$', r'$E$')\n",
    "\n",
    "    \n",
    "    # Figure out how many rows and columns [two rows for now]\n",
    "    plot_flags = [q_vs_time_plot, p_vs_time_plot, phase_space_plot, energy_plot, poincare_plot]\n",
    "    plot_num = plot_flags.count(True)\n",
    "    plot_rows = 2\n",
    "    figsize_rows = plot_rows*6\n",
    "    plot_cols = 2\n",
    "    figsize_cols = min(plot_cols*8, 16)  # at most 16\n",
    "    \n",
    "    # Make the plot!\n",
    "    fig = plt.figure(figsize=(figsize_cols,figsize_rows))\n",
    "    #     , axes = plt.subplots(plot_rows, plot_cols,\n",
    "    # Do not delete the empty slot before the comma in this line, it's important!\n",
    "    , axes = plt.subplots(plot_rows, plot_cols)\n",
    "                             \n",
    "    # finds nearest index to plot_start in t_pts array                      \n",
    "    start_index = (np.fabs(t_pts-plot_start)).argmin() \n",
    "    \n",
    "    next_axis = 1  # keep track of the axis number\n",
    "    if q_vs_time_plot:\n",
    "        ax_q = fig.add_subplot(plot_rows, plot_cols, next_axis)                  \n",
    "        plot_y_vs_x(t_pts, q, axis_labels=q_vs_time_labels, \n",
    "                    label='oscillator', title=r'$q$ vs. time', \n",
    "                    ax=ax_q)    \n",
    "        # add a line where the phase space plot starts\n",
    "        ax_q.axvline(t_pts[start_index], lw=3, color='red')\n",
    "                          \n",
    "        if driving_curve:\n",
    "           ax_driving = ax_q.twinx()\n",
    "           plot_y_vs_x(t_pts, driving, ax=ax_driving, color='red',\n",
    "                       linestyle='dotted')      # add 'driving label?'                   \n",
    "        next_axis += 1\n",
    "    \n",
    "    if p_vs_time_plot:\n",
    "        ax_p = fig.add_subplot(plot_rows, plot_cols, next_axis)                  \n",
    "        plot_y_vs_x(t_pts, p, axis_labels=p_vs_time_labels, \n",
    "                    label='oscillator', title=r'$p$ vs. time', \n",
    "                    ax=ax_p)    \n",
    "        # add a line where the phase space plot starts\n",
    "        ax_p.axvline(t_pts[start_index], lw=3, color='red')\n",
    "                          \n",
    "        if driving_curve:\n",
    "           ax_driving2 = ax_p.twinx()\n",
    "           plot_y_vs_x(t_pts, driving, ax=ax_driving2, color='red',\n",
    "                       linestyle='dotted')  # add 'driving label?'                        \n",
    "        next_axis += 1\n",
    "\n",
    "    if phase_space_plot:\n",
    "        ax_phase_space = fig.add_subplot(plot_rows, plot_cols, next_axis)                  \n",
    "        plot_y_vs_x(q[start_index:-1], p[start_index:-1], \n",
    "                    axis_labels=phase_space_labels, title='Phase space', \n",
    "                    ax=ax_phase_space)    \n",
    "        next_axis += 1\n",
    "\n",
    "    if energy_plot:\n",
    "        EE = osci.energy([q,p], t_pts)\n",
    "                          \n",
    "        ax_energy_plot = fig.add_subplot(plot_rows, plot_cols, next_axis)                  \n",
    "        plot_y_vs_x(t_pts, EE, \n",
    "                    axis_labels=energy_plot_labels, title='Energy', \n",
    "                    ax=ax_energy_plot)    \n",
    "        next_axis += 1\n",
    "\n",
    "    if poincare_plot:\n",
    "        ax_poincare_plot = fig.add_subplot(plot_rows, plot_cols, next_axis)\n",
    "        ax_poincare_plot.set_xlabel(phase_space_labels[0])\n",
    "        ax_poincare_plot.set_ylabel(phase_space_labels[1])\n",
    "        ax_poincare_plot.set_xlim(np.min(q), np.max(q))\n",
    "        ax_poincare_plot.set_ylim(np.min(p), np.max(p))\n",
    "        ax_poincare_plot.set_title('Poincare map')\n",
    "        ax_poincare_plot.scatter(q[start_index::100], p[start_index::100], s=8, lw=2)\n",
    "        next_axis += 1\n",
    "        \n",
    "        print(\"(\"+str(q[start_index::100][-1])+\",\"+str(p[start_index::100][-1])+\")\")\n",
    "                          \n",
    "    fig.tight_layout()\n",
    "        \n",
    "    return fig\n",
    "\n"
   ]
  },
  {
   "cell_type": "markdown",
   "metadata": {},
   "source": [
    "# 4. Exploring the Model"
   ]
  },
  {
   "cell_type": "markdown",
   "metadata": {},
   "source": [
    "# 4.1 Response to Parameter Variations\n",
    "Finally, we call the GUI from the external Python module. It groups the controls in the following tabs:\n",
    "* On the main tab (`Physics`), you can use the sliders to vary the initial conditions and the parameters of the model.\n",
    "* The `Plotting` tab controls which plots are shown (see discussion above) and controls the start and end times for the integration as well the size of the time step (only used if no frequencies `omega0` or `omega_ext` are defined, see `osci_plot`). Use `Start plotting` to remove initial segments of the solution to eliminate transient behavior from the plots.\n",
    "* The `Styling` tab only controls the size of font labels at this time.\n",
    "\n",
    "<div class=\"alert alert-block alert-info\">\n",
    "\n",
    "    \n",
    "The GUI can produce standard plots like $q(t)$, $p(t)$, or $E(t)$ versus time. More interesting are the phase space plots and the **Poincaré map**. The former is a 2D plot of $(q(t), p(t))$, and it can be used to classify the different types of dynamical behavior: closed trajectories like for a free harmonic oscillator, spiraling for damped or driven oscillators, emergence of fixed points, limit cycles, or chaos. \n",
    "    \n",
    "The Poincaré map is another useful tool for visualizing the dynamics. It consists of the points $(q(n*T), p(n*T))$, where $T$ is a characteristic period of the system (e.g., the period of the driving force or the natural frequency of the oscillator). **Which period should you use to generate the Poincaré map for a damped and driven Duffing oscillator? Why?** \n",
    "    \n",
    "    \n",
    "**Task**: \n",
    "\n",
    "Find examples for fixed points, limit cycles, and chaotic behavior. Explain why the Poincaré map looks the way it does in these cases. Document your results using screenshots or by generating and saving figures by calling `osci_plot` with appropriate parameters and saving the result:\n",
    "    \n",
    "```\n",
    "    fig = osci_plot(alpha=..., omega_ext=..., ...)\n",
    "    fig.savefig('<An appropriate name>.pdf', format='pdf', bbox_inches='tight')\n",
    "```\n",
    "    \n",
    "**Note:** I recommend starting the oscillator from rest at (or near) one of the minima of the potential and ramping up  $f_\\text{ext}$ in small steps while keeping the other parameters fixed. (Also see next section.) **Use the `start plotting` slider to eliminate the initial transient behavior of the system.**\n",
    "\n",
    "</div>"
   ]
  },
  {
   "cell_type": "markdown",
   "metadata": {},
   "source": [
    "I don't know what you mean, when asking which period should I use to generate the Poincaré map. It looks like any period can be used.\n",
    "Why is one period able to generate the map better than another?\n",
    "\n",
    "When you say fixed points, does that mean the points on the Poincaré map converge to a single point, that point beinga fixed point? If that's the case, then one such point is $(q\\approx 0, p\\approx 1/3)$.\n",
    "The numbers used to produce this point are\n",
    "\\begin{align*}\n",
    "    q_0 &= 0 \\text{ m},\\\\\n",
    "    p_0 &= 0 \\text{ kg m s$^{-1}$},\\\\\n",
    "    \\omega_0 &= 2\\text{ Hz},\\\\\n",
    "    \\omega_{ext} &= 2\\text{ Hz},\\\\\n",
    "    f_{ext} &= 1\\text{ N},\\\\\n",
    "    \\phi_{ext} &= 0\\text{ rad},\\\\\n",
    "    \\beta &= 1.5.\n",
    "\\end{align*}\n",
    "\n",
    "A quick look up of what limit cycles are tells me that these numbers also produce a limit cycle, so that's cool.\n",
    "\n",
    "I'm having a lot of trouble finding chaotic motion. Sorry."
   ]
  },
  {
   "cell_type": "code",
   "execution_count": 44,
   "metadata": {},
   "outputs": [
    {
     "data": {
      "application/vnd.jupyter.widget-view+json": {
       "model_id": "e03acc4ea9924597b3c56ba4a68824bd",
       "version_major": 2,
       "version_minor": 0
      },
      "text/plain": [
       "VBox(children=(Tab(children=(VBox(children=(HBox(children=(FloatSlider(value=0.0, continuous_update=False, des…"
      ]
     },
     "metadata": {},
     "output_type": "display_data"
    }
   ],
   "source": [
    "# from p03_oscillator_gui import OscillatorGUI, float_widget\n",
    "from IPython.display import display\n",
    "    \n",
    "gui = OscillatorGUI(plotfunction=osci_plots)\n",
    "\n",
    "display(gui.vbox)\n",
    "\n"
   ]
  },
  {
   "cell_type": "markdown",
   "metadata": {},
   "source": [
    "# 4.2 Bifurcation\n",
    "The following routine creates a **bifurcation** diagram for the model: The positions of $q(n*T_\\text{ext})$ at multiples of the period of the driving force are plotted vs. the strength `f_ext`. Again, we use `t_drop` to prevent the initial transient behavior from being included in the plot: It is recommended to drop about $1000\\cdot T$. **Please note that generating the diagram can take some time, especially if you use many sampling points.**"
   ]
  },
  {
   "cell_type": "code",
   "execution_count": 45,
   "metadata": {},
   "outputs": [],
   "source": [
    "# This function generates the main output here, which is a grid of plots\n",
    "def bifurcation(f_ext_min=0, f_ext_max=2, f_sample=200,\n",
    "             omega0=1., beta=0.05, alpha=1., omega_ext=1.4, phi_ext=0,\n",
    "             q0=0.0, p0=0.0, t_start=0, t_end=8000, t_drop=5000,\n",
    "            ):\n",
    "    \"\"\"\n",
    "    Create a bifurcation plot of the model by plotting all q(n*T) for a given value of the\n",
    "    driving force strength (T: period of the driving force). \n",
    "    \n",
    "    f_ext_min, f_ext_max, f_sample: (float)\n",
    "            Interval of f_ext values that is swept by the routine. f_sample is the number of\n",
    "            (equidistant) sample points.\n",
    "            \n",
    "    omega0, beta, omega_ext, phi_ext: (float)\n",
    "            Parameters of the model. (Extend as needed.)\n",
    "            \n",
    "    q0, p0: (float)\n",
    "            Initial conditions for the integration.\n",
    "            \n",
    "    t_start, t_end, t_drop: (float)\n",
    "            Time interval for the integration. This should be sufficiently long for the system\n",
    "            to exhibit complex chaotic behavior. Data from [0, t_drop] are dropped because the\n",
    "            system will usually exhibit transient behavior for some time after starting.\n",
    "    \"\"\"\n",
    "    \n",
    "    # Set up mesh for time integration: We use either fractions of the driving force's period,\n",
    "    # the oscillator's natural period, or a default step size (useful for Poincare map).\n",
    "\n",
    "    # number of steps per period\n",
    "    num_steps = 100\n",
    "    \n",
    "    if abs(omega_ext) > 1.0e-5:\n",
    "        delta_t = 2 * np.pi / omega_ext / num_steps\n",
    "    elif abs(omega0) > 1.0e-5:\n",
    "        delta_t = 2 * np.pi / omega0 / num_steps\n",
    "    else:\n",
    "        # allow override ?\n",
    "        delta_t = 0.01\n",
    "\n",
    "    # add delta_t it goes at least to t_end\n",
    "    t_pts = np.arange(t_start, t_end+delta_t, delta_t)  \n",
    "\n",
    "\n",
    "    # Use this to drop the first several hundred periods or so\n",
    "    start_index = (np.fabs(t_pts-t_drop)).argmin() \n",
    "\n",
    "\n",
    "    # step size for driving force\n",
    "    df = abs(f_ext_max - f_ext_min) / f_sample\n",
    "    \n",
    "    # ODE solver parameters\n",
    "    abserr = 1.0e-8\n",
    "    relerr = 1.0e-6\n",
    "\n",
    "    # Prepare the plot\n",
    "    fig, ax = plt.subplots(figsize=(12,16))\n",
    "    ax.set_xlabel(r'$F_\\mathrm{ext}$')\n",
    "    ax.set_ylabel(r'q')\n",
    "    ax.set_xlim(f_ext_min - df, f_ext_max + df)\n",
    "    \n",
    "    f_data=[ ]\n",
    "    q_data=[ ]\n",
    "    for i in range(0, f_sample+1):\n",
    "        f_ext = f_ext_min + i*df\n",
    "        osci = Oscillator(omega0=omega0, beta=beta, f_ext=f_ext, omega_ext=omega_ext, phi_ext=phi_ext)\n",
    "        y0 = [q0, p0]  # initial conditions for the oscillator ODE\n",
    "\n",
    "        #  The .T is for transpose, so that the matrix from odeint can changed\n",
    "        #  to the correct form for reading off q and p.\n",
    "        q, p = odeint(osci.dy_dt, y0, t_pts, atol=abserr, rtol=relerr).T\n",
    "        \n",
    "        f_data.append([f_ext] * len(q[start_index::num_steps]))\n",
    "        q_data.append(q[start_index::num_steps])\n",
    "\n",
    "    ax.scatter(f_data, q_data, s=8, lw=2)\n",
    "\n",
    "                          \n",
    "    fig.tight_layout()\n",
    "    \n",
    "    \n",
    "    return fig\n",
    "\n"
   ]
  },
  {
   "cell_type": "markdown",
   "metadata": {},
   "source": [
    "<div class=\"alert alert-block alert-info\">\n",
    "\n",
    "**Task**: \n",
    "\n",
    "Generate one (or more) bifurcation diagrams that illustrates various dynamical behaviors (fixed points, limit cycles, chaos). For best results, I again recommend to start the oscillator in (or near) one of the equilibria of the potential, and to use fine-grained intervals, e.g., $f_\\text{max} - f_\\text{min} = 0.05$, $f_\\text{sample}=100-200$.\n",
    "\n",
    "</div>\n",
    "\n",
    "Some comments regarding the interpretation of this diagram:\n",
    "* A rapid *period doubling* is a typical indicator for the impending emergence of chaotic behavior.\n",
    "* The `breaks` in the curve occur when there is a **fixed point** for the given $f_\\text{ext}$ during the time interval we study. \n",
    "* If a few distinct well-separated points emerge, the system has a **limit** cycle with several characteristic frequencies (i.e., several loops in the phase space trajectory).\n",
    "* Chaotic behavior is readily evident: A range of possible positions is 'smeared out' (although this may only look continuous due to the plot settings)."
   ]
  },
  {
   "cell_type": "code",
   "execution_count": 46,
   "metadata": {},
   "outputs": [
    {
     "data": {
      "image/png": "[encoded data removed]",
      "text/plain": [
       "<Figure size 864x1152 with 1 Axes>"
      ]
     },
     "metadata": {
      "needs_background": "light"
     },
     "output_type": "display_data"
    }
   ],
   "source": [
    "\n",
    "diag = bifurcation(f_ext_min=0.45, f_ext_max=0.5, f_sample=100, q0=-1)\n",
    "diag.savefig('ho_bifucation.pdf', format='pdf', bbox_inches='tight')"
   ]
  },
  {
   "cell_type": "code",
   "execution_count": null,
   "metadata": {},
   "outputs": [],
   "source": []
  }
 ],
 "metadata": {
  "kernelspec": {
   "display_name": "Python 3",
   "language": "python",
   "name": "python3"
  },
  "language_info": {
   "codemirror_mode": {
    "name": "ipython",
    "version": 3
   },
   "file_extension": ".py",
   "mimetype": "text/x-python",
   "name": "python",
   "nbconvert_exporter": "python",
   "pygments_lexer": "ipython3",
   "version": "3.8.6"
  }
 },
 "nbformat": 4,
 "nbformat_minor": 4
}
