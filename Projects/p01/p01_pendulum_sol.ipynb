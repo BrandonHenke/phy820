{
 "cells": [
  {
   "cell_type": "markdown",
   "metadata": {},
   "source": [
    "# P01: The Pendulum\n",
    "\n",
    "**Last revised:** Sep 19, 2020 by Heiko Hergert [hergert@frib.msu.edu] <br>\n",
    "Based on original material by Dick Furnstahl [furnstahl.1@osu.edu]"
   ]
  },
  {
   "cell_type": "markdown",
   "metadata": {},
   "source": [
    "<div class=\"alert alert-block alert-warning\">\n",
    "\n",
    "**First draft due:** Oct 5, 2020\n",
    "\n",
    "</div>"
   ]
  },
  {
   "cell_type": "markdown",
   "metadata": {},
   "source": [
    "# 1. Introduction\n",
    "In this project, we will use the example of a pendulum to formulate a general strategy for implementing and solving the dynamics of physical system: We will set up and implement the governing equations of motion of an ideal pendulum, solve them numerically, visualize the solutions, and use a variety of techniques to test the validity along the way. Finally, we will add the dissipative effects that any realistic pendulum will experience. \n",
    "\n",
    "\n",
    "\n",
    "# 2. The Ideal Pendulum\n",
    "## 2.1 Setup\n",
    "We consider an ideal pendulum consisting of a mass $m$ that is suspended from the ceiling on a massless string of length $l$. When displaced from rest, the mass will perform oscillations under the influence of gravity, without any dissipative losses.\n",
    "\n",
    "\n",
    "<div class=\"alert alert-block alert-info\">\n",
    "\n",
    "First, show that the Lagrangian of the pendulum is given by\n",
    "$$\n",
    "\\begin{align}\n",
    "  L(\\phi,\\dot{\\phi})=\\frac{1}{2}m l^2\\dot{\\phi}^2 + mgl\\cos\\phi\\tag{1}\n",
    "\\end{align}\n",
    "$$\n",
    "(mind the choice of coordinate system and the signs).\n",
    "\n",
    "Next, show that the Euler-Lagrange equations lead to the following equation of motion (EOM):\n",
    "\n",
    "$$\n",
    "\\begin{align}\n",
    "  \\ddot\\phi = -\\frac{g}{l}\\sin\\phi\n",
    "  \\;.\\tag{2}\n",
    "\\end{align}\n",
    "$$\n",
    "\n",
    "</div>\n",
    "\n",
    "Type your work in the cell below. Make sure to switch the Cell Type to Markdown, e.g., via Jupyter's Cell menu. You can use LaTeX synatx in Jupyter Markdown to render formulas - double click the present cell to see examples.\n"
   ]
  },
  {
   "cell_type": "markdown",
   "metadata": {},
   "source": [
    "The kinetic energy is given by\n",
    "$$\n",
    "    T = \\frac{1}{2} m \\dot{\\vec{\\rho}}\\cdot \\dot{\\vec{\\rho}} = \\frac{1}{2}m l^2 \\dot{\\phi}^2.\n",
    "$$\n",
    "The potential energy is given by\n",
    "$$\n",
    "    V = -mgl\\cos \\phi.\n",
    "$$\n",
    "Thus, the Lagrangian is given by\n",
    "$$\n",
    "    \\mathcal{L} = T - V = \\frac{1}{2}m l^2 \\dot{\\phi}^2 + mgl\\cos \\phi.\n",
    "$$\n",
    "\n",
    "From the Lagrangian,\n",
    "$$\n",
    "    \\frac{d}{dt} \\frac{\\partial \\mathcal{L}}{\\partial \\dot{\\phi}} - \\frac{\\partial \\mathcal{L}}{\\partial \\phi} = 0 = ml^2 \\ddot{\\phi} + mgl\\sin\\phi.\n",
    "$$\n",
    "Rewriting this to solve for $\\ddot{\\phi}$ gives\n",
    "$$\n",
    "    \\ddot{\\phi} = -\\frac{g}{l}\\sin\\phi.\n",
    "$$"
   ]
  },
  {
   "cell_type": "markdown",
   "metadata": {},
   "source": [
    "## 2.2 Implementation\n",
    "(If you are feeling up to it, you can check out SymPy's functionality for Lagrangian mechanics --- the documentation can be found [here](https://docs.sympy.org/latest/modules/physics/mechanics/lagrange.html). You will still need to be able to do some of the math on your own when you're taking an exam, so don't load off all the fun to SymPy.)\n",
    "\n",
    "The pendulum's EOM is a second order, ***nonlinear*** differential equation. We are going to solve it exactly, which is only possible numerically, as well as with a series of controlled approximations that represent an **effective theory** of the pendulum. The leading-order effective theory corresponds to the frequently used small-angle approximation, which will provide us with an *analytic* solution for validating our results.\n",
    "\n",
    "We will work to build up code in steps to find the solutions for the pendulum motion, in order to illustrate how a notebook evolves.  We usually don't create the polished version at once!"
   ]
  },
  {
   "cell_type": "code",
   "execution_count": 1,
   "metadata": {},
   "outputs": [],
   "source": [
    "%matplotlib inline"
   ]
  },
  {
   "cell_type": "code",
   "execution_count": 2,
   "metadata": {},
   "outputs": [],
   "source": [
    "import numpy as np\n",
    "from scipy.integrate import odeint\n",
    "\n",
    "import matplotlib.pyplot as plt\n",
    "#plt.rcParams.update({'font.size': 18})\n"
   ]
  },
  {
   "cell_type": "markdown",
   "metadata": {},
   "source": [
    "Recall from the Introduction notebook that Python's ODE solvers expect to be passed a vector containing first-order derivatives only. Fill in the following routine to adapt the right-hand side of the EOM to the required format, extracting the current solution from `u_vec` and returning `d(u_vec)/dt` to the ODE solver. "
   ]
  },
  {
   "cell_type": "code",
   "execution_count": 3,
   "metadata": {},
   "outputs": [],
   "source": [
    "def ode_rhs_exact(u_vec, t, *params):\n",
    "    \"\"\" \n",
    "    Right-hand side (rhs) of the differential equation, with \n",
    "    u_vec = [\\phi, \\dot\\phi] and params = [g, R].  Returns the list of\n",
    "    d(u_vec)/dt, as prescribed by the differential equation.\n",
    "    \n",
    "    \"\"\"\n",
    "    phi, phidot =  u_vec # extract phi and phidot from the passed vector\n",
    "    g, R = params        # extract g and R from the passed parameters\n",
    "    return [ phidot, -g/R * np.sin(phi)]"
   ]
  },
  {
   "cell_type": "markdown",
   "metadata": {},
   "source": [
    "This is the main computational part of the code for now: Set up the initial conditions and run the ODE solver with the routine you have created to produce data."
   ]
  },
  {
   "cell_type": "code",
   "execution_count": 4,
   "metadata": {},
   "outputs": [],
   "source": [
    "# parameters\n",
    "g = 9.8  # in mks units\n",
    "R = 5    # radius in meters\n",
    "\n",
    "# absolute and relative tolerances for ode solver\n",
    "abserr = 1.0e-8\n",
    "relerr = 1.0e-6\n",
    "\n",
    "# initial conditions for [phi, phidot]\n",
    "phi0 = np.pi/180 * 20.  # convert initial phi to radians\n",
    "u0_vec = [phi0,0]\n",
    "\n",
    "t_max = 15.  # integration time\n",
    "t_pts = np.arange(0, t_max, 0.01)  # array of time points, spaced 0.01\n",
    "\n",
    "# Integrate the differential equation and read off phi, phidot (note T!)\n",
    "phi, phidot = odeint(ode_rhs_exact, u0_vec, t_pts, args=(g, R), \n",
    "                     atol=abserr, rtol=relerr).T"
   ]
  },
  {
   "cell_type": "markdown",
   "metadata": {},
   "source": [
    "Now plot your solutions."
   ]
  },
  {
   "cell_type": "code",
   "execution_count": 5,
   "metadata": {},
   "outputs": [
    {
     "data": {
      "image/png": "[encoded data removed]",
      "text/plain": [
       "<Figure size 432x288 with 1 Axes>"
      ]
     },
     "metadata": {
      "needs_background": "light"
     },
     "output_type": "display_data"
    }
   ],
   "source": [
    "fig = plt.figure()\n",
    "ax = fig.add_subplot(1,1,1)\n",
    "ax.plot(t_pts, 180./np.pi * phi)\n",
    "fig.tight_layout()  # make the spacing of subplots nicer"
   ]
  },
  {
   "cell_type": "markdown",
   "metadata": {},
   "source": [
    "<div class=\"alert alert-block alert-info\">\n",
    "\n",
    "Let us stop and assess our solution here. Does it make sense, given the behavior we would expect? I.e.,\n",
    "\n",
    "- **Does the pendulum start at the correct angle?** \n",
    "- **Is the time behavior appropriate for an ideal, undamped pendulum?**\n",
    "</div>"
   ]
  },
  {
   "cell_type": "markdown",
   "metadata": {},
   "source": [
    "For future use, we now put the code into a function. We can use the syntax in the first line to assign default values to optional arguments (see below for calls to `solve_for_phi` with varying arguments)."
   ]
  },
  {
   "cell_type": "code",
   "execution_count": 6,
   "metadata": {},
   "outputs": [],
   "source": [
    "def solve_for_phi(phi0, phidot0=0, t_min=0., t_max=1., g=9.8, R=5.):\n",
    "    \"\"\"\n",
    "    Solve the equation of motion for an ideal pendulum.\n",
    "    The result for t, \\phi(t) and \\dot\\phi(t) are returned for a range\n",
    "    t_min < t < t_max and a hardwired (for now) time step of 0.01 seconds.\n",
    "    The ODE solver is odeint from scipy, with specified tolerances. \n",
    "    Units are mks and angles are in radians.\n",
    "    \"\"\"\n",
    "\n",
    "    # absolute and relative tolerances for ode solver\n",
    "    abserr = 1.0e-8\n",
    "    relerr = 1.0e-6\n",
    "\n",
    "    # initial conditions for [phi, phidot]\n",
    "    u0_vec = [phi0,phidot0]\n",
    "\n",
    "    t_pts = np.arange(t_min, t_max, 0.01)\n",
    "\n",
    "    # Integrate the differential equation\n",
    "    phi, phidot = odeint(ode_rhs_exact, u0_vec, t_pts, args=(g, R), \n",
    "                     atol=abserr, rtol=relerr).T\n",
    "    \n",
    "    return t_pts,phi,phidot "
   ]
  },
  {
   "cell_type": "markdown",
   "metadata": {},
   "source": [
    "<div class=\"alert alert-block alert-info\">\n",
    "\n",
    "**Check that the function works, i.e., gives you the same result as before.**\n",
    "\n",
    "</div>"
   ]
  },
  {
   "cell_type": "code",
   "execution_count": 7,
   "metadata": {},
   "outputs": [],
   "source": [
    "phi0 = np.pi/180 * 20.  # convert initial phi to radians\n",
    "t_pts, phi, phidot = solve_for_phi(phi0, t_max=15.)"
   ]
  },
  {
   "cell_type": "code",
   "execution_count": 8,
   "metadata": {},
   "outputs": [
    {
     "data": {
      "image/png": "[encoded data removed]",
      "text/plain": [
       "<Figure size 432x288 with 1 Axes>"
      ]
     },
     "metadata": {
      "needs_background": "light"
     },
     "output_type": "display_data"
    }
   ],
   "source": [
    "fig = plt.figure()\n",
    "ax = fig.add_subplot(1,1,1)\n",
    "ax.plot(t_pts, 180./np.pi * phi)\n",
    "fig.tight_layout()  # make the spacing of subplots nicer\n"
   ]
  },
  {
   "cell_type": "markdown",
   "metadata": {},
   "source": [
    "## 2.3 Effective Theories\n",
    "If we look back over the history of physics, we will note that again and again the existing theories of physical phenomena were revealed to be **effective theories**, i.e., limiting cases of more fundamental underlying theories. In fact, nature seems to be best grasped through a \"tower\" of such effective theories that will allow us to make progress despite not knowing what the ultimate underlying theory - perhaps a theory of everything - is going to be.\n",
    "\n",
    "Classical mechanics is no different in this regard: It is an effective theory of Quantum Mechanics in the limit where energy can be treated as continuous instead of quantized, which we can formally express as $\\frac{\\hbar\\omega}{E}\\ll 1$ (or sometimes as $\\hbar\\to 0$). Furthermore, it is the limit of Special Relativity for $\\frac{v}{c}\\ll1$, which is itself a limit of General Relativity for weak gravitational fields. \n",
    "\n",
    "### Effective Theories of Gravity\n",
    "In fact, the treatment of gravity in Introductory Physics is likely your earliest encounter with an effective theory. Gravity is first introduced either in force or potential form as\n",
    "$$\n",
    "\\begin{equation}\n",
    "  \\vec{F} = m\\vec{g}\\,, \\quad V = mgh\\,,\\tag{3}\n",
    "\\end{equation}\n",
    "$$\n",
    "where $h$ is the elevation of an object with mass $m$ over the surface of the Earth. Some time later, this is revealed to be a limit of the more general expression \n",
    "$$\n",
    "\\begin{equation}\n",
    "  \\vec{F} = -G\\frac{m_1 m_2}{r^2}\\vec{e}_r\\,, \\quad V = -G\\frac{m_1m_2}{r}\\,,\\tag{4}\n",
    "\\end{equation}\n",
    "$$\n",
    "where $\\vec{r}$ is the distance between the masses $m_1$ and $m_2$. For the case of an object near the surface of the Earth, we have $m_1=m$, $m_2=M_E$ is the mass of the Earth, and $r=R_E+h$ is the distance of object from the Earth's center of mass, so that \n",
    "$$\n",
    "\\begin{align}\n",
    "  V &= -G\\frac{m M_E}{R_E+h} = -G\\frac{mM_E}{R_E}\\frac{1}{1+h/R_E} \\notag\\\\\n",
    "  &=-G\\frac{mM_E}{R_E} \\sum_{n=0}^{\\infty} \\left(\\frac{h}{R_E}\\right)^n \n",
    "  = -G\\frac{mM_E}{R_E}\\left(1 - \\frac{h}{R_E} + \\mathcal{O}\\left(\\frac{h^2}{R^2_E}\\right)\\right)\\notag\\\\\n",
    "  &= -G\\frac{mM_E}{R_E} + G\\frac{mM_E}{R^2_E}h  + \\mathcal{O}\\left(\\frac{h^2}{R^2_E}\\right)\\notag\\\\\n",
    "  &= V_0 + mgh + \\mathcal{O}\\left(\\frac{h^2}{R^2_E}\\right)\\,,\\tag{5}\n",
    "\\end{align}\n",
    "$$\n",
    "where we have introduced $g \\equiv G\\frac{M_E}{R_E^2}$ and $V_0=-mgR_E$ is the potential at ground level. Thus, the first form of gravity you learn is the leading-order effective theory of Newtonian gravity, Eq. (4). For sufficiently high elevation, we may need to take corrections in $\\frac{h}{R_E}$ into account, and once $\\frac{h}{R_E}\\geq 1$, the geometric series expansion in Eq. (5) is no longer converging. We say that the effective theory **breaks down** at the distance **scale $R_E$**.\n",
    "\n",
    "### General Strategy\n",
    "The general strategy for setting up an effective theory consists of identifying a small expansion parameter that is usually associated with a **separation of scales**. In our example, an everyday elevation $h$ is $\\mathcal{O}(1\\,\\text{m})$ to $\\mathcal{O}(10\\,\\text{m})$, which is small compared to the radius of the Earth, $R_E=6.371\\times 10^6\\,\\text{m}$. In nonrelativistic mechanics, $v\\ll c$. Moreover, we can neglect whatever the effects of corrections from a hypothetical quantum theory of gravity would be. We then define an expansion in the small parameter and set up what is called a **power-counting scheme**, treating all observables through some order $n$ in the ratio of the small and large scales. We frequently also use the terms leading-order (LO), next-to-leading order (NLO), next-to-next-to-leading order (NNLO) etc.\n",
    "\n",
    "In the example of gravity, we knew the underlying theory and used it to construct the effective theory for objects near the surface of the Earth. What can we do if the underlying theory is unknown? If we are able to identify a possible new scale - e.g., by noting where deviations form the effective theory behavior become noticeable - we can attempt to **define** the expansion parameter $x$, and make an *ansatz* for the theory:\n",
    "$$\n",
    "\\begin{align}\n",
    "   V = \\sum_{k=1}^\\infty c_k x^k\n",
    "\\end{align}\n",
    "$$\n",
    "The expansion coefficients $c_k$ are then constrained by the symmetries of the theory (translational invariance, rotational invariance, etc.), and we can determine them at some given order of the expansion by fitting them to experimental data. The LO theory will fix $c_1$ and observables will have an error of order $\\mathcal{O}(x^2)$ from the omitted terms in the expansion. At NLO, we fix $c_1$ and $c_2$, possibly with slightly different values than at LO, and the overall error of the theory will be $\\mathcal{O}(x^3)$, and so on. The effective theory can then be used to make predictions for observables that were *not* used to fit the $c_k$. "
   ]
  },
  {
   "cell_type": "markdown",
   "metadata": {},
   "source": [
    "# 2.4 Small-Angle Approximation\n",
    "\n",
    "## 2.4.1 Derivation\n",
    "Let us now apply the effective theory ideas to the pendulum. Consider $\\theta$ as a small expansion parameter.\n",
    "\n",
    "<div class=\"alert alert-block alert-info\">\n",
    "\n",
    "Construct the leading-order Lagrangian of the effective theory through the first few orders, and the associated equation of motion. (**Note:** Leading-order does not necessarily mean the first term of the expansion in the angle $\\phi$; we want discuss a dynamical system, after all.) \n",
    "\n",
    "</div>"
   ]
  },
  {
   "cell_type": "markdown",
   "metadata": {},
   "source": [
    "\n",
    "$$\n",
    "    \\mathcal{L} = \\frac{1}{2} m l^2 \\dot\\phi^2 + mgl\\cos\\phi \\approx \\frac{1}{2}ml^2\\dot\\phi^2 + mgl\\left(1-\\frac{\\phi^2}{2}+\\frac{\\phi^4}{24}\\right)\n",
    "$$"
   ]
  },
  {
   "cell_type": "markdown",
   "metadata": {},
   "source": [
    "## 2.4.2 Implementation\n",
    "\n",
    "<div class=\"alert alert-block alert-info\">\n",
    "\n",
    "Now we need an ODE function for the small-angle approximation. You can just copy and modify your routine for the exact solution, with an appropriate change of name.\n",
    "\n",
    "</div>"
   ]
  },
  {
   "cell_type": "code",
   "execution_count": 18,
   "metadata": {},
   "outputs": [],
   "source": [
    "def ode_rhs_lo(u_vec, t, *params):\n",
    "    \"\"\" \n",
    "    Right-hand side (rhs) of the EOM for the ideal pendulum, with \n",
    "    u_vec = [\\phi, \\dot\\phi] and params = [g, R].  Returns the list of\n",
    "    d(u_vec)/dt, as prescribed by the differential equation.\n",
    "    \n",
    "    \"\"\"\n",
    "    g = params[0]\n",
    "    R = params[1]\n",
    "    \n",
    "    phi = u_vec[0]\n",
    "    phidot = u_vec[1]\n",
    "    \n",
    "    \n",
    "    return [phidot, g/R * (-phi + phi**3/6)]"
   ]
  },
  {
   "cell_type": "markdown",
   "metadata": {},
   "source": [
    "Now we can put all of them together into one solver function:"
   ]
  },
  {
   "cell_type": "code",
   "execution_count": 19,
   "metadata": {},
   "outputs": [],
   "source": [
    "def solve_for_phi_all(phi0, phidot0=0, t_min=0., t_max=1., g=9.8, R=5.):\n",
    "    \"\"\"\n",
    "    Solve the EOM for the ideal pendulum using the exact equation and the \n",
    "    small-angle approximation. The results for t, \\phi(t) and \\dot\\phi(t), \n",
    "    are returned for a grid with t_min < t < t_max and a hardwired (for now) \n",
    "    spacing of 0.01 seconds. The ODE solver is odeint from scipy, with specified \n",
    "    tolerances. Units are mks and angles are in radians.\n",
    "    \"\"\"\n",
    "\n",
    "    # absolute and relative tolerances for ode solver\n",
    "    abserr = 1.0e-8\n",
    "    relerr = 1.0e-6\n",
    "\n",
    "    # initial conditions for [phi, phidot]\n",
    "    u0_vec = [phi0,phidot0]\n",
    "\n",
    "    t_pts = np.arange(t_min, t_max, 0.01)\n",
    "\n",
    "    # Integrate the differential equations\n",
    "    phi, phidot = odeint(ode_rhs_exact, u0_vec, t_pts, args=(g, R), atol=abserr, rtol=relerr).T\n",
    "    phi_lo, phidot_lo = odeint(ode_rhs_lo, u0_vec, t_pts, args=(g,R), atol=abserr, rtol=relerr).T\n",
    "    \n",
    "    return t_pts, phi, phidot, phi_lo, phidot_lo"
   ]
  },
  {
   "cell_type": "markdown",
   "metadata": {},
   "source": [
    "## 2.4.3 Solutions and Discussion\n",
    "Let's try it out!"
   ]
  },
  {
   "cell_type": "code",
   "execution_count": 20,
   "metadata": {},
   "outputs": [],
   "source": [
    "phi0 = np.pi/180 * 20.\n",
    "t_pts, phi, phidot, phi_lo, phidot_lo = solve_for_phi_all(phi0, t_max=15.)\n"
   ]
  },
  {
   "cell_type": "code",
   "execution_count": 21,
   "metadata": {},
   "outputs": [
    {
     "data": {
      "image/png": "[encoded data removed]",
      "text/plain": [
       "<Figure size 432x288 with 1 Axes>"
      ]
     },
     "metadata": {
      "needs_background": "light"
     },
     "output_type": "display_data"
    }
   ],
   "source": [
    "fig = plt.figure()\n",
    "ax = fig.add_subplot(1,1,1)\n",
    "ax.plot(t_pts, 180./np.pi * phi)\n",
    "ax.plot(t_pts, 180./np.pi * phi_lo)\n",
    "fig.tight_layout()  # make the spacing of subplots nicer\n"
   ]
  },
  {
   "cell_type": "markdown",
   "metadata": {},
   "source": [
    "We could analyze the solutions at this stage, but instead let's improve the plot and see how to save it."
   ]
  },
  {
   "cell_type": "markdown",
   "metadata": {},
   "source": [
    "### More systematic plotting\n",
    "\n",
    "Here we see examples of applying limits to the x and y axes as well as labels and a title."
   ]
  },
  {
   "cell_type": "code",
   "execution_count": 22,
   "metadata": {},
   "outputs": [
    {
     "data": {
      "image/png": "[encoded data removed]",
      "text/plain": [
       "<Figure size 576x432 with 1 Axes>"
      ]
     },
     "metadata": {
      "needs_background": "light"
     },
     "output_type": "display_data"
    }
   ],
   "source": [
    "fig = plt.figure(figsize=(8,6))\n",
    "ax = fig.add_subplot(1,1,1)\n",
    "ax.set_xlim(0.,15.)\n",
    "ax.set_ylim(-25.,25.)\n",
    "ax.set_xlabel('t (sec)')\n",
    "ax.set_ylabel(r'$\\phi$')\n",
    "ax.set_title(r'$\\phi_0 = 20$ degrees')\n",
    "# Watch out: The empty space behind the comma matters, do not remove!!!\n",
    "line_exact, = ax.plot(t_pts, 180./np.pi * phi, label='exact')\n",
    "line_lo, = ax.plot(t_pts, 180./np.pi * phi_lo, label='LO')\n",
    "ax.legend()\n",
    "\n",
    "# save the figure\n",
    "fig.savefig('p01_pendulum_solutions.png', bbox_inches='tight')"
   ]
  },
  {
   "cell_type": "markdown",
   "metadata": {},
   "source": [
    "### Now let's add some widgets!\n",
    "\n",
    "We can use widgets to examine arbitrary angles."
   ]
  },
  {
   "cell_type": "code",
   "execution_count": 23,
   "metadata": {},
   "outputs": [],
   "source": [
    "from ipywidgets import interact, fixed\n",
    "import ipywidgets as widgets\n",
    "\n",
    "def rad_to_deg(theta_rad):\n",
    "    theta_rad = np.array(theta_rad)\n",
    "    theta_rad.reshape(1,theta_rad.size)\n",
    "    \"\"\"Take as input an angle in radians and return it in degrees.\"\"\"\n",
    "    return 180./np.pi * theta_rad\n",
    "\n",
    "def deg_to_rad(theta_deg):\n",
    "    theta_deg = np.array(theta_deg)\n",
    "    theta_deg.reshape(1,theta_deg.size)\n",
    "    \"\"\"Take as input an angle in degrees and return it in radians.\"\"\"\n",
    "    return np.pi/180. * theta_deg\n"
   ]
  },
  {
   "cell_type": "code",
   "execution_count": 30,
   "metadata": {},
   "outputs": [],
   "source": [
    "def plot_exact_and_small_angle(phi0_deg=0):\n",
    "    phi0_rad = deg_to_rad(phi0_deg)\n",
    "    t_pts, phi_rad, phidot_rad, phi_lo_rad, phidot_lo_rad = solve_for_phi_all(phi0_rad, t_max=15.)\n",
    "    phi_deg = rad_to_deg(phi_rad)\n",
    "    phi_lo_deg = rad_to_deg(phi_lo_)\n",
    "    \n",
    "    \n",
    "    fig = plt.figure(figsize=(8,6))\n",
    "    ax = fig.add_subplot(1,1,1)\n",
    "    # Watch out: The empty space behind the comma matters, do not remove!!!\n",
    "    line_exact, = ax.plot(t_pts, phi_deg, label='exact')\n",
    "    line_lo, = ax.plot(t_pts, phi_lo_deg, label='lo')\n",
    "    ax.legend()\n",
    "    ax.set_xlim(0.,15.)\n",
    "    #ax.set_ylim(-90.,90.)\n",
    "    ax.set_xlabel('t (sec)')\n",
    "    ax.set_ylabel(r'$\\phi$')\n",
    "    ax.set_title(fr'$\\phi_0 = {phi0_deg:.0f}$')\n",
    "    plt.show()\n",
    "\n",
    "    "
   ]
  },
  {
   "cell_type": "code",
   "execution_count": 31,
   "metadata": {},
   "outputs": [
    {
     "data": {
      "application/vnd.jupyter.widget-view+json": {
       "model_id": "5c7879223d1e4138b78141fee73db09a",
       "version_major": 2,
       "version_minor": 0
      },
      "text/plain": [
       "interactive(children=(FloatSlider(value=0.0, description='phi0_deg', max=90.0), Output()), _dom_classes=('widg…"
      ]
     },
     "metadata": {},
     "output_type": "display_data"
    }
   ],
   "source": [
    "interact(plot_exact_and_small_angle, phi0_deg=(0.,90.));"
   ]
  },
  {
   "cell_type": "code",
   "execution_count": 27,
   "metadata": {},
   "outputs": [
    {
     "data": {
      "application/vnd.jupyter.widget-view+json": {
       "model_id": "faa1e9a08e604efda1287c66b5f4d83c",
       "version_major": 2,
       "version_minor": 0
      },
      "text/plain": [
       "interactive(children=(FloatSlider(value=0.0, description='$\\\\phi_0$ (degrees)', max=120.0, readout_format='.0f…"
      ]
     },
     "metadata": {},
     "output_type": "display_data"
    }
   ],
   "source": [
    "# to avoid the jiggling and do some formatting\n",
    "phi0_deg_widget = widgets.FloatSlider(min=0., max=120.0, step=0.1, value=0.,\n",
    "                                     description=r'$\\phi_0$ (degrees)',\n",
    "                                     readout_format='.0f',\n",
    "                                     continuous_update=True\n",
    "                                    )\n",
    "interact(plot_exact_and_small_angle, phi0_deg=phi0_deg_widget);"
   ]
  },
  {
   "cell_type": "markdown",
   "metadata": {},
   "source": [
    "Now that we have played through the leading-order approximation of the Lagrangian, you may guess what is coming next.\n",
    "\n",
    "<div class=\"alert alert-block alert-info\">\n",
    "\n",
    "1. Add (at least) **next-to-leading order corrections** to the small angle expansion of $\\sin\\phi$, and analyze their impact on the accuracy of your result. \n",
    "    \n",
    "    Use the widgets to explore and identify ranges of angle where you notice interesting behavior, e.g., noticeable changes in the quality of the approximation. Create snapshot figures (or source code to produce them, as in the examples above) and use them to discuss your findings below.\n",
    "    \n",
    "    \n",
    "2. **(Bonus)** Treat the exact solution as observed data, and the effective theory as an ansatz\n",
    "    $$\n",
    "    \\begin{equation}\n",
    "        V_n(\\phi) = \\sum_{k=1}^nc_k\\phi^k\\,.\n",
    "    \\end{equation}\n",
    "    $$\n",
    "    Determine the $c_i$'s by fitting them to the data, and check how well they compare with the exact coefficients that are determined by expanding the exact $V(\\phi)=mgl\\cos\\theta$.\n",
    "</div>"
   ]
  },
  {
   "cell_type": "code",
   "execution_count": null,
   "metadata": {},
   "outputs": [],
   "source": []
  },
  {
   "cell_type": "markdown",
   "metadata": {},
   "source": [
    "# 3. Damped Pendulum\n",
    "\n",
    "Let us now consider a pendulum that is also subject to a drag force $\\vec{F} = -\\beta \\dot{\\vec{r}}$. \n",
    "\n",
    "## 3.1 Analytical Derivation\n",
    "\n",
    "<div class=\"alert alert-block alert-info\">\n",
    "\n",
    "1. Construct the dissipation function.\n",
    "2. Derive the Lagrange equations with the explicit drag term.\n",
    "3. Solve the LO theory for the underdamped case and determine the time by which a small-amplitude oscillation has been reduced by a factor $1/e$.\n",
    "\n",
    "</div>\n"
   ]
  },
  {
   "cell_type": "code",
   "execution_count": null,
   "metadata": {},
   "outputs": [],
   "source": []
  },
  {
   "cell_type": "markdown",
   "metadata": {},
   "source": [
    "## 3.2 Numerical Solution\n",
    "\n",
    "<div class=\"alert alert-block alert-info\">\n",
    "\n",
    "1. Solve the exact and LO theories numerically for the underdamped case (make a suitable choice for $\\beta$ and $m$.\n",
    "2. Discuss qualitatively how the decay time of the exact solution changes for different initial amplitudes. \n",
    "\n",
    "</div>\n",
    "\n"
   ]
  },
  {
   "cell_type": "code",
   "execution_count": null,
   "metadata": {},
   "outputs": [],
   "source": []
  },
  {
   "cell_type": "code",
   "execution_count": null,
   "metadata": {},
   "outputs": [],
   "source": []
  },
  {
   "cell_type": "code",
   "execution_count": null,
   "metadata": {},
   "outputs": [],
   "source": []
  },
  {
   "cell_type": "code",
   "execution_count": null,
   "metadata": {},
   "outputs": [],
   "source": []
  }
 ],
 "metadata": {
  "kernelspec": {
   "display_name": "Python 3",
   "language": "python",
   "name": "python3"
  },
  "language_info": {
   "codemirror_mode": {
    "name": "ipython",
    "version": 3
   },
   "file_extension": ".py",
   "mimetype": "text/x-python",
   "name": "python",
   "nbconvert_exporter": "python",
   "pygments_lexer": "ipython3",
   "version": "3.8.5"
  }
 },
 "nbformat": 4,
 "nbformat_minor": 4
}
